{
 "cells": [
  {
   "cell_type": "code",
   "execution_count": 13,
   "id": "5781fc06",
   "metadata": {},
   "outputs": [
    {
     "name": "stdout",
     "output_type": "stream",
     "text": [
      "[1 2 3 4 5 6 7 8 9]\n",
      "[ 2  4 -3  8 10 -6 14 16 -9]\n"
     ]
    }
   ],
   "source": [
    "import numpy as np\n",
    "\n",
    "'''\n",
    "piecewise将x转换为一个分段函数，\n",
    "分段的方式由condlist指定，函数值由funclist指定\n",
    "piecewise(x, condlist, funclist, *args, **kw)\n",
    "'''\n",
    "x = np.arange(1, 10, 1)\n",
    "print(x)\n",
    "p = np.piecewise(x, [x%3==0, x%3!=0], [lambda x:-x, lambda x:x*2, lambda x: x+1])\n",
    "print(p)"
   ]
  },
  {
   "cell_type": "code",
   "execution_count": 17,
   "id": "505893e1",
   "metadata": {},
   "outputs": [
    {
     "name": "stdout",
     "output_type": "stream",
     "text": [
      "[-10  -9  -8  -7  -6  -5  -4  -3  -2  -1   0   1   2   3   4   5   6   7\n",
      "   8   9]\n",
      "[ 10   9   8 -14 -12 -10  -8  -2  -1   0   1   2   3   4   5   6   7   8\n",
      "   9  10]\n"
     ]
    }
   ],
   "source": [
    "x = np.arange(-10, 10, 1)\n",
    "print(x)\n",
    "'''\n",
    "如下例，前3个元素取负，接下来4个*2，最后一些+1\n",
    "'''\n",
    "pw = [[True]*3 + [False]*(len(x)-3), [False]*3+[True]*4+[False]*(len(x)-7), [False]*7+[True]*(len(x)-7)]\n",
    "p = np.piecewise(x, pw, [lambda x:-x, lambda x:x*2, lambda x: x+1])\n",
    "print(p)"
   ]
  },
  {
   "cell_type": "code",
   "execution_count": null,
   "id": "a6ad8d52",
   "metadata": {},
   "outputs": [],
   "source": []
  }
 ],
 "metadata": {
  "kernelspec": {
   "display_name": "Python 3 (ipykernel)",
   "language": "python",
   "name": "python3"
  },
  "language_info": {
   "codemirror_mode": {
    "name": "ipython",
    "version": 3
   },
   "file_extension": ".py",
   "mimetype": "text/x-python",
   "name": "python",
   "nbconvert_exporter": "python",
   "pygments_lexer": "ipython3",
   "version": "3.8.9"
  }
 },
 "nbformat": 4,
 "nbformat_minor": 5
}
