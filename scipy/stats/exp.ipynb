{
 "cells": [
  {
   "cell_type": "code",
   "execution_count": 3,
   "id": "0bec4704",
   "metadata": {},
   "outputs": [
    {
     "data": {
      "image/png": "[encoded data removed]",
      "text/plain": [
       "<Figure size 432x288 with 1 Axes>"
      ]
     },
     "metadata": {
      "needs_background": "light"
     },
     "output_type": "display_data"
    }
   ],
   "source": [
    "from scipy.stats import poisson\n",
    "import numpy as np\n",
    "import seaborn as sns\n",
    "\n",
    "import matplotlib.pyplot as plt\n",
    "fig, ax = plt.subplots(1, 1)\n",
    "\n",
    "prob = poisson.cdf(x, mu)\n",
    "np.allclose(x, poisson.ppf(prob, mu))\n"
   ]
  },
  {
   "cell_type": "code",
   "execution_count": 6,
   "id": "c0ce76e5",
   "metadata": {},
   "outputs": [
    {
     "name": "stdout",
     "output_type": "stream",
     "text": [
      "0.6 0.6 1.2909944487358056 1.6666666666666667\n"
     ]
    }
   ],
   "source": [
    "mu = 0.6\n",
    "# skew是峰度，kurt是偏度\n",
    "mean, var, skew, kurt = poisson.stats(mu, moments='mvsk')\n",
    "print(mean, var, skew, kurt)"
   ]
  },
  {
   "cell_type": "code",
   "execution_count": 16,
   "id": "d4a17488",
   "metadata": {},
   "outputs": [
    {
     "name": "stdout",
     "output_type": "stream",
     "text": [
      "[0. 1. 2.]\n",
      "[0.54881164 0.32928698 0.09878609] 0.9768847122473672\n"
     ]
    }
   ],
   "source": [
    "x = np.arange(poisson.ppf(0.01, mu),\n",
    "              poisson.ppf(0.99, mu))\n",
    "print(x)\n",
    "pmf = poisson.pmf(x,mu)\n",
    "print(pmf, np.sum(pmf))\n",
    "ax.plot(x, pmf, 'bo', ms=8, label='poisson pmf')\n",
    "ax.vlines(x, 0, poisson.pmf(x, mu), colors='b', lw=5, alpha=0.5)\n",
    "rv = poisson(mu)\n",
    "ax.vlines(x, 0, rv.pmf(x), colors='k', linestyles='-', lw=1,\n",
    "        label='frozen pmf')\n",
    "ax.legend(loc='best', frameon=False)\n",
    "plt.show()"
   ]
  },
  {
   "cell_type": "code",
   "execution_count": 9,
   "id": "ec3b1975",
   "metadata": {},
   "outputs": [
    {
     "name": "stdout",
     "output_type": "stream",
     "text": [
      "[0.54881164 0.87809862 0.97688471]\n"
     ]
    }
   ],
   "source": [
    "prob = poisson.cdf(x, mu)\n",
    "print(prob)"
   ]
  },
  {
   "cell_type": "code",
   "execution_count": 5,
   "id": "cd6b1ea0",
   "metadata": {},
   "outputs": [
    {
     "name": "stdout",
     "output_type": "stream",
     "text": [
      "[1 0 0 1 3 1 0 1 1 0 0 0 0 1 0 0 0 0 1 0 0 1 1 0 1 1 1 1 0 0 0 1 1 0 0 2 1\n",
      " 1 0 0 1 0 0 0 0 1 0 0 0 1 0 0 0 0 1 1 1 0 1 1 0 0 0 0 1 2 0 1 0 0 0 0 0 1\n",
      " 0 0 0 0 3 1 2 1 0 0 0 2 1 0 1 0 0 0 0 0 0 0 0 0 0 2 0 0 0 3 0 1 0 0 0 0 0\n",
      " 0 0 0 0 2 0 1 0 1 0 0 0 1 0 2 1 0 0 1 0 0 0 0 0 0 2 2 1 0 0 1 0 0 0 0 1 1\n",
      " 0 2 1 0 1 0 0 0 0 0 0 0 1 1 0 2 0 0 1 0 1 2 0 1 0 1 0 0 0 0 1 1 1 2 0 0 0\n",
      " 0 1 0 0 1 1 1 0 0 2 0 1 0 1 0 0 1 1 0 0 0 0 1 0 0 1 0 0 0 0 0 0 2 1 1 0 3\n",
      " 0 0 1 2 0 0 0 1 1 0 0 0 1 1 0 1 1 1 1 0 1 0 1 1 0 0 1 0 0 0 0 1 0 0 0 0 0\n",
      " 2 1 2 0 0 1 1 1 1 0 1 2 0 0 1 0 3 0 0 2 1 0 1 0 0 0 1 0 0 0 3 0 0 2 2 0 0\n",
      " 0 1 2 1 0 0 0 1 0 0 2 0 1 1 0 0 0 1 0 0 1 0 1 0 0 1 0 0 1 1 0 0 0 2 0 1 1\n",
      " 1 1 2 0 2 1 1 2 0 1 0 1 2 0 0 1 1 0 0 0 0 0 0 0 1 1 1 0 1 1 0 0 0 1 1 0 0\n",
      " 1 0 0 0 1 2 0 1 3 1 1 0 0 0 1 0 0 1 2 0 0 0 0 2 0 1 0 1 0 0 1 1 0 2 1 0 0\n",
      " 1 0 0 0 0 1 0 1 0 1 1 0 0 1 0 0 0 0 1 0 1 2 0 1 0 0 1 0 1 0 0 0 0 0 3 1 1\n",
      " 1 0 1 1 2 0 0 0 1 1 1 0 0 0 0 0 0 0 2 1 0 1 1 1 0 0 1 1 1 3 2 1 1 1 0 1 1\n",
      " 2 1 1 1 0 1 0 1 1 0 0 2 0 0 2 0 0 1 0 0 1 0 0 1 1 0 0 1 0 0 0 0 2 0 0 1 1\n",
      " 2 0 1 0 1 0 1 0 0 1 2 1 0 0 0 0 0 1 2 0 2 0 1 0 1 0 2 0 1 0 0 0 0 0 1 0 2\n",
      " 0 0 1 0 0 0 0 1 1 0 2 1 0 1 1 1 1 0 1 0 1 1 0 1 1 1 3 1 0 0 0 0 0 1 0 1 1\n",
      " 2 1 0 0 0 0 0 1 0 1 1 0 0 0 0 0 1 2 2 0 0 0 1 1 0 0 0 1 0 0 1 0 1 1 1 0 0\n",
      " 2 1 0 1 0 0 1 1 1 1 0 0 2 0 0 1 3 0 0 0 1 0 1 0 1 0 0 1 2 0 0 1 1 0 0 1 1\n",
      " 1 0 1 1 0 1 1 1 1 0 1 0 1 0 0 0 1 2 0 1 2 0 0 1 1 1 0 2 1 1 0 0 0 0 0 1 0\n",
      " 0 0 0 0 0 0 0 0 0 2 0 2 0 2 0 2 1 1 1 0 0 0 1 0 0 2 0 0 1 0 1 0 2 2 0 0 0\n",
      " 0 0 0 0 0 1 0 0 1 0 2 1 0 1 0 2 1 0 0 0 1 1 1 0 0 1 0 0 0 1 0 0 0 2 0 0 2\n",
      " 1 0 0 3 1 1 0 0 1 0 1 0 1 1 2 2 0 0 1 0 0 0 0 1 0 0 0 1 1 0 0 0 2 2 0 0 0\n",
      " 0 0 0 0 0 1 2 0 0 1 0 2 0 0 3 0 0 1 0 3 1 0 0 1 0 2 0 1 1 0 1 2 0 1 1 0 0\n",
      " 1 0 0 2 0 0 2 1 0 0 0 0 2 0 0 0 0 0 1 1 0 1 4 2 1 0 1 2 1 0 1 2 2 0 0 0 1\n",
      " 0 0 0 1 1 1 1 0 1 0 0 1 0 0 0 0 2 0 0 0 1 0 0 0 0 1 1 0 0 0 1 1 1 0 2 0 2\n",
      " 0 0 2 0 0 1 0 2 0 0 1 0 1 0 0 0 1 2 0 0 0 1 0 0 0 0 0 4 2 0 0 1 0 0 1 0 0\n",
      " 0 3 0 0 0 1 0 0 0 1 0 0 0 0 0 1 0 0 1 0 0 0 0 0 1 0 1 1 3 0 0 1 0 2 1 0 0\n",
      " 0]\n"
     ]
    }
   ],
   "source": [
    "r = poisson.rvs(0.6, size=1000)\n",
    "print(r)"
   ]
  },
  {
   "cell_type": "code",
   "execution_count": 43,
   "id": "44a85b12",
   "metadata": {},
   "outputs": [
    {
     "data": {
      "image/png": "[encoded data removed]",
      "text/plain": [
       "<Figure size 432x288 with 1 Axes>"
      ]
     },
     "metadata": {
      "needs_background": "light"
     },
     "output_type": "display_data"
    }
   ],
   "source": [
    "# 绘制泊松分布的曲线\n",
    "x = np.arange(0, 20)\n",
    "fig, ax = plt.subplots(1, 1)\n",
    "pmf1 = poisson.pmf(x, mu=0.6)\n",
    "pmf2 = poisson.pmf(x, mu=2)\n",
    "pmf3 = poisson.pmf(x, mu=5)\n",
    "pmf4 = poisson.pmf(x, mu=10)\n",
    "ax.plot(x, pmf, 'b-', ms=3, label='mu=0.6')\n",
    "ax.plot(x, pmf2, 'r-', ms=3, label='mu=2')\n",
    "ax.plot(x, pmf3, 'g-', ms=3, label='mu=5')\n",
    "ax.plot(x, pmf4, 'p-', ms=3, label='mu=10')\n",
    "ax.legend(loc='best')\n",
    "plt.show()"
   ]
  },
  {
   "cell_type": "code",
   "execution_count": null,
   "id": "45b2d961",
   "metadata": {},
   "outputs": [],
   "source": []
  }
 ],
 "metadata": {
  "kernelspec": {
   "display_name": "Python 3 (ipykernel)",
   "language": "python",
   "name": "python3"
  },
  "language_info": {
   "codemirror_mode": {
    "name": "ipython",
    "version": 3
   },
   "file_extension": ".py",
   "mimetype": "text/x-python",
   "name": "python",
   "nbconvert_exporter": "python",
   "pygments_lexer": "ipython3",
   "version": "3.8.9"
  }
 },
 "nbformat": 4,
 "nbformat_minor": 5
}
