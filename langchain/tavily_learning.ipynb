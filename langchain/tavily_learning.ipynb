{
 "cells": [
  {
   "cell_type": "code",
   "execution_count": 3,
   "id": "8575ab03-3341-4788-8268-4bb1be396f4a",
   "metadata": {},
   "outputs": [
    {
     "data": {
      "text/plain": [
       "{'query': '北京今天的天气怎么样',\n",
       " 'follow_up_questions': None,\n",
       " 'answer': None,\n",
       " 'images': [],\n",
       " 'results': [{'url': 'https://www.weather.com.cn/weather/101010100.shtml',\n",
       "   'title': '预报- 北京 - 中国天气网',\n",
       "   'content': '<<返回 全国 全国>北京>城区 31/18℃ <3级 晴转多云 33/20℃ <3级 29/18℃ <3级 26/17℃ <3级 23/16℃ <3级 26/18℃ <3级 27/19℃ <3级 适宜 洗车指数 适宜 洗车指数 较适宜 洗车指数 适宜 洗车指数 适宜 洗车指数 适宜 洗车指数 过去24小时最大风力: 3级 (h)℃(μg/m³)(%)(mm)(级) 40°C 35°C 30°C 25°C 20°C 15°C 10°C 31  18℃  33  20℃  29  18℃  26  17℃  23  16℃  26  18℃  27  19℃  周边地区 | 周边景点 2025-05-19 07:30更新 周边地区 | 周边景点 2025-05-19 07:30更新 5月19日 今年首场大范围高温进入鼎盛阶段 南方降雨陷入“车轮战” --------------------------- 今明两天（5月19至20日），我国首轮大范围高温天气将达到鼎盛，多地将现37℃到39℃的高温，公众请注意防暑。 5月18日 北方首场高温天气将进入鼎盛阶段 江南华南多地需警惕降雨叠加致灾 ------------------------------- 今天北方首场高温过程已开启，明（5月19日）起至22日将进入核心影响时段，多地或经历40℃的高温酷热天气。南方未来一周仍维持多雨模式。 5月17日 南方多轮降水接踵而至 下周初北方高温发展河南陕西局地或达40℃ ------------------------------- 南方未来三天（5月17日至19日）降雨连连，20日至21日、22至24日还将有降雨过程。气温方面，19日至21日我国高温明显增多、增强。 5月16日 南方大部陷入降雨车轮战 北方高温将增多增强 --------------------- 今天（5月16日），西南地区东部、江南、华南等地仍有大范围降雨，局地雨势猛烈，并可能伴有强对流天气。北方多地高温将逐渐发展增多。 5月15日 南方降水频繁暴雨连连 北方高温发展多地或现40°C酷热天气 ----------------------------- 南方今明天（5月15日至16日）降水范围较大。后天起，南方新一轮降水过程将接踵而至。北方大部晴热天气较多，明天起高温将会发展增多。 5月13日 南方再度开启多雨模式 北方将现较大范围高温 --------------------- 今明天（5月13日至14日），我国中东部地区降水增多，南方再度开启多雨模式，需注意防范局地强降雨和强对流天气的不利影响。 5月11日 今明天中东部大部天气晴朗 下周东北华北气温将屡创新高 -------------------------- 今明两天（5月11日至12日），随着南方降雨结束，全国大部都将以晴好天气为主。在阳光的助力下，中东部气温也开始大幅回升。 5月10日 周末中东部地区晴多雨少 北方率先开启升温模式 ---------------------- 预计本周末（5月10日至11日），我国大部地区降水稀少，各地将陆续放晴。与此同时，北方也将率先开启升温模式。 5月8日 南方降雨进入核心影响时段 华北东北多地凉意加重 ----------------------- 今明天（5月8日至9日），中东部将现大范围降雨，南方部分地区雨势较强，当地需警惕次生灾害，公众关注预警预报信息，途经积水路段尽量绕行。 5月6日 明起南方新一轮降雨来袭 全国大部气温波动上升 ---------------------- 今天（5月6日），江南、华南仍有较强降雨，明天起南方地区新一轮降雨过程上线。近期冷空气较为活跃，全国大部气温将呈现波动中上升的趋势。 更多>>高清图集 大理 晴转多云 26/15℃适宜 张家界 晴转多云 33/22℃较适宜',\n",
       "   'score': 0.69845337,\n",
       "   'raw_content': None},\n",
       "  {'url': 'https://www.nmc.cn/publish/forecast/ABJ/beijing.html',\n",
       "   'title': '北京-天气预报 - 中央气象台',\n",
       "   'content': 'Image 3 Image 4 Image 5 Image 6 Image 7 Image 8 Image 9 Image 10 Image 11 Image 12 Image 13 Image 14 Image 15 Image 16 Image 17 Image 18 Image 19 Image 20 Image 21 Image 22 Image 23 Image 24 Image 25 Image 26 Image 27 Image 28 Image 29 Image 30 Image 31 Image 32 Image 33 Image 34 Image 35 Image 36 Image 37 Image 38 Image 39 Image 40 Image 41 Image 42 Image 43 Image 44 Image 45 Image 46 Image 47 Image 48 Image 49 Image 50 Image 51 Image 52 Image 53 Image 54 Image 55 Image 56 Image 57 Image 58 Image 59 Image 60 Image 61 Image 62',\n",
       "   'score': 0.4627892,\n",
       "   'raw_content': None}],\n",
       " 'response_time': 1.69}"
      ]
     },
     "execution_count": 3,
     "metadata": {},
     "output_type": "execute_result"
    }
   ],
   "source": [
    "import os\n",
    "from dotenv import load_dotenv\n",
    "load_dotenv(override=True)\n",
    "\n",
    "from langchain_tavily import TavilySearch\n",
    "\n",
    "tool = TavilySearch(\n",
    "    max_results=2,\n",
    "    topic=\"general\",\n",
    "    # include_answer=False,\n",
    "    # include_raw_content=False,\n",
    "    # include_images=False,\n",
    "    # include_image_descriptions=False,\n",
    "    # search_depth=\"basic\",\n",
    "    # time_range=\"day\",\n",
    "    # include_domains=None,\n",
    "    # exclude_domains=None\n",
    ")\n",
    "\n",
    "tool.invoke({\"query\": \"今天的几月几号，北京今天的天气怎么样\"})\n"
   ]
  },
  {
   "cell_type": "code",
   "execution_count": null,
   "id": "8d2e7dad-917d-4230-ad09-40f35088a2c3",
   "metadata": {},
   "outputs": [],
   "source": []
  }
 ],
 "metadata": {
  "kernelspec": {
   "display_name": "Python 3 (ipykernel)",
   "language": "python",
   "name": "python3"
  },
  "language_info": {
   "codemirror_mode": {
    "name": "ipython",
    "version": 3
   },
   "file_extension": ".py",
   "mimetype": "text/x-python",
   "name": "python",
   "nbconvert_exporter": "python",
   "pygments_lexer": "ipython3",
   "version": "3.12.10"
  }
 },
 "nbformat": 4,
 "nbformat_minor": 5
}
