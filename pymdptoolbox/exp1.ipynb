{
 "cells": [
  {
   "cell_type": "code",
   "execution_count": 30,
   "id": "fcc9096c",
   "metadata": {},
   "outputs": [
    {
     "name": "stdout",
     "output_type": "stream",
     "text": [
      "P = [[[0.1 0.9 0. ]\n",
      "  [0.1 0.  0.9]\n",
      "  [0.1 0.  0.9]]\n",
      "\n",
      " [[1.  0.  0. ]\n",
      "  [1.  0.  0. ]\n",
      "  [1.  0.  0. ]]]\n",
      "R = [[0. 0.]\n",
      " [0. 1.]\n",
      " [4. 2.]]\n"
     ]
    }
   ],
   "source": [
    "import mdptoolbox.example\n",
    "P, R = mdptoolbox.example.forest(S=3,r1=4,r2=2,p=0.1,is_sparse=False)\n",
    "print(\"P =\",P)\n",
    "print(\"R =\",R)"
   ]
  },
  {
   "cell_type": "markdown",
   "id": "b3cd90af",
   "metadata": {},
   "source": [
    "# mdptoolbox.example.forest()数据集说明\n",
    "* 状态\n",
    "状态是森林的持续时长，如果S=3，说明有3种状态，即是[0,1,2]。\n",
    "* 动作\n",
    "动作有两种，Wait和Cut\n",
    "动作的选择，第一目标是维持森林；第二目标是挣钱。每一年，有概率p会烧毁森林。\n",
    "* 奖励\n",
    "当森林处于最老的状态（``S``-1）时，如果选择Wait，保持原有森林，其奖励是r1，非最老状态时，Wait没有奖励\n",
    "当森林处于最老的状态时，如果选择Cut，其奖励是r2，如果是最年轻状态（S=0），Cut没有奖励，之间的奖励都是1\n",
    "* 转移概率矩阵\n",
    "转移概率矩阵是``A``*``S``*``S``。在马尔可夫链中，转移概率矩阵的维度是``S``*``S``，而在MDP中，不同的A转移矩阵不同。\n",
    "* 策略\n",
    "在当前状态下，选择什么动作的概率分布。而转移概率矩阵描述的是，在当前状态下，选择动作a后，转移到其他状态的概率分布。"
   ]
  },
  {
   "cell_type": "markdown",
   "id": "3ae369f2",
   "metadata": {},
   "source": [
    "# mdptoolbox.mdp.ValueIteration说明\n",
    "vi.policy，描述的是当处于状态i时，选择的策略，所以vi.policy的维度是``S``\n"
   ]
  },
  {
   "cell_type": "code",
   "execution_count": 31,
   "id": "0d140685",
   "metadata": {},
   "outputs": [
    {
     "name": "stdout",
     "output_type": "stream",
     "text": [
      "  Iteration\t\tV-variation\n",
      "    1\t\t  4.0\n",
      "    2\t\t  2.5919999999999996\n",
      "    3\t\t  0.8640000000000003\n",
      "    4\t\t  8.881784197001252e-16\n",
      "Iterating stopped, epsilon-optimal policy found.\n",
      "(0, 0, 0)\n",
      "(5.93215488, 9.38815488, 13.38815488)\n",
      "4\n"
     ]
    }
   ],
   "source": [
    "vi = mdptoolbox.mdp.ValueIteration(P, R, 0.96)\n",
    "vi.setVerbose()\n",
    "vi.run()\n",
    "print(vi.policy) # result is (0, 0, 0)\n",
    "print(vi.V)\n",
    "print(vi.iter)\n"
   ]
  },
  {
   "cell_type": "code",
   "execution_count": null,
   "id": "b284a90e",
   "metadata": {},
   "outputs": [],
   "source": []
  }
 ],
 "metadata": {
  "kernelspec": {
   "display_name": "Python 3 (ipykernel)",
   "language": "python",
   "name": "python3"
  },
  "language_info": {
   "codemirror_mode": {
    "name": "ipython",
    "version": 3
   },
   "file_extension": ".py",
   "mimetype": "text/x-python",
   "name": "python",
   "nbconvert_exporter": "python",
   "pygments_lexer": "ipython3",
   "version": "3.9.12"
  }
 },
 "nbformat": 4,
 "nbformat_minor": 5
}
